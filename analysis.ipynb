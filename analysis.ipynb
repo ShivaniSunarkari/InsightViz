{
 "cells": [
  {
   "cell_type": "markdown",
   "id": "c6741f49",
   "metadata": {},
   "source": [
    "# InsightViz Exploratory Analysis\n",
    "\n",
    "This notebook explores the customer churn dataset and prepares features for modeling."
   ]
  },
  {
   "cell_type": "code",
   "execution_count": null,
   "id": "d0cac3a0",
   "metadata": {},
   "outputs": [],
   "source": [
    "import pandas as pd\n",
    "import matplotlib.pyplot as plt\n",
    "\n",
    "%matplotlib inline"
   ]
  },
  {
   "cell_type": "code",
   "execution_count": null,
   "id": "43719739",
   "metadata": {},
   "outputs": [],
   "source": [
    "df = pd.read_csv('../data/sample_customer_churn.csv')\n",
    "df.head()"
   ]
  },
  {
   "cell_type": "code",
   "execution_count": null,
   "id": "7a42f8a7",
   "metadata": {},
   "outputs": [],
   "source": [
    "# Churn distribution\n",
    "churn_counts = df['churn'].value_counts()\n",
    "churn_counts.plot(kind='bar')\n",
    "plt.title('Churn Value Counts')\n",
    "plt.xlabel('Churn')\n",
    "plt.ylabel('Count')"
   ]
  },
  {
   "cell_type": "markdown",
   "id": "1e663f07",
   "metadata": {},
   "source": [
    "## Next Steps\n",
    "- Run `src/preprocess.py` to engineer additional features.\n",
    "- Save the cleaned data and import it into Power BI to build visualizations.\n"
   ]
  }
 ],
 "metadata": {},
 "nbformat": 4,
 "nbformat_minor": 5
}
